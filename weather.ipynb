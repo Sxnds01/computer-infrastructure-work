{
 "cells": [
  {
   "cell_type": "markdown",
   "metadata": {},
   "source": [
    "# Summary of Tasks 1-7\n",
    "---\n",
    "This notebook summarises the codes and commands used to complete tasks 1-7"
   ]
  },
  {
   "cell_type": "markdown",
   "metadata": {},
   "source": [
    "## Task 1\n",
    "---\n",
    "\n",
    "Task 1 was to create a folder 'data' at the root of the repository and two subdirectories - timestamps and weather. I used the [mkdir command][1] to do this. However I accidently made the weather folder a subdirectory of the data/timestamps folder. Also created data2 as I deleted data but was unable to use the same name.\n",
    "\n",
    "**Command I used:** \n",
    "\n",
    "mkdir data2  #mkdir command is used to make directories and subdirectories.\n",
    "\n",
    "mkdir data2/timestamps  #makes the timestamps subdirectory, the forward slash indicates a new directory\n",
    "\n",
    "mkdir data2/timestamps/weather  #makes the weather subdirectory within the data2/timestamps directory\n",
    "\n",
    "**What I should have done:**\n",
    "\n",
    "mkdir data2\n",
    "\n",
    "mkdir data2/timestamps\n",
    "\n",
    "mkdir data2/weather\n",
    "\n",
    "Both timestamps and weather would have been subdirectories of data2 rather than wetaher being a subdirectory of data2/timestamps.\n",
    "\n",
    "\n",
    "\n",
    "\n",
    "\n",
    "[1]: https://ubuntu.com/tutorials/command-line-for-beginners#4-creating-folders-and-files"
   ]
  },
  {
   "cell_type": "markdown",
   "metadata": {},
   "source": [
    "## Task 2\n",
    "---\n",
    "\n",
    "Task 2 was to use the 'date' command to output the current date and time then append it into a file called 'now.txt'.\n",
    "\n",
    "**date**  #outputs the day in three letter format, the month in three letter format, the day of the month, the time in HHMMSS format and the year. This was done 10 times.\n",
    "\n",
    "The output of the date command was to be appended in a txt file in the data2/timestamps directory so I changed directories with the command cd:\n",
    "    \n",
    "    cd data2/timestamps\n",
    "\n",
    "To append an output into a file use the >> operator and the name of the file you want to create and append the output into. The >> operator can create a new file if it doesn't already exist and doesn't overwrite the file if it does exist.\n",
    "\n",
    "**Command I used:**\n",
    "    \n",
    "    date >> now.txt\n",
    "\n",
    "The command **more** can be used to display the contents of the file. This command was used to ensure the previous command had the expected result:\n",
    "    \n",
    "    more now.txt"
   ]
  },
  {
   "cell_type": "markdown",
   "metadata": {},
   "source": [
    "## Task 3\n",
    "---\n",
    "\n",
    "The date command was ran again but instead it was formatted as YYYYmmdd_HHMMSS. The date man page has all the formatting options. \n",
    "\n",
    "Year = %Y\n",
    "Month = %m\n",
    "Day = %d\n",
    "Hour = %H\n",
    "Minute =%M\n",
    "Second = %S\n",
    "\n",
    "To format the date the command used is:\n",
    "    \n",
    "    date +\"%Y%m%d_%H%M%S\"\n",
    "\n",
    "And it was appended to a txt file called formatted.txt with the command:\n",
    "    \n",
    "    date +\"%Y%m%d_%H%M%S\" >> formatted.txt"
   ]
  },
  {
   "cell_type": "markdown",
   "metadata": {},
   "source": [
    "## Task 4\n",
    "---\n",
    "Task 4 repeated task 3 but using the **touch** command to create a new empty file. The file name is in the YYYYmmdd_HHMMSS format and this is done by embedding the **date +format** into something called backticks (``). [Backticks work by carrying out the command in the backticks first before the main command runs and its output being used by the command as a parameter][1]. In the case of this command, the main command is the touch command but the date +format command in backticks will be executed first by becoming the name of the file created. \n",
    "\n",
    "The full command used:\n",
    "    \n",
    "    touch `date +\"%Y%m%d_%H%M%S\"` \n",
    "\n",
    "\n",
    "\n",
    "\n",
    "\n",
    "\n",
    "[1]: https://www.techopedia.com/definition/17836/backtick"
   ]
  },
  {
   "cell_type": "markdown",
   "metadata": {},
   "source": [
    "## Task 5\n",
    "---\n",
    "To switch to work in the weather subdirectory I used the command:\n",
    "    cd data2/timestamps/weather\n",
    "\n",
    "In this task the weather data for the Athenry weather station was downloaded using the wget command. [wget is non-interactive network downloader that can download files from a server even when the user is not logged on and downloads with hindering the current process hence it being non-interactive][1].\n",
    "\n",
    "When you download a file with wget it saves the file a name from the URL by default. [This can be changed by passing the command -O][2]:\n",
    "    \n",
    "    wget -O <filename><URL>\n",
    "\n",
    "The -O gives the option of saving the file with a different name. To save the filename as weather.json the command is as follows:\n",
    "    \n",
    "    wget -O weather.json https://prodapi.metweb.ie/observations/athenry/today\n",
    "\n",
    "\n",
    "\n",
    "\n",
    "\n",
    "[1]: https://www.geeksforgeeks.org/wget-command-in-linux-unix/\n",
    "[2]: https://www.geeksforgeeks.org/linux-renaming-file-while-downloading-with-wget/?ref=oin_asr1"
   ]
  },
  {
   "cell_type": "markdown",
   "metadata": {},
   "source": [
    "## Task 6\n",
    "---\n",
    "Task 6 is to modify Task 5 by saving the downloaded file as YYYYmmdd_HHMMSS.json. This uses the command from task 4 where the date +format command is passed through first by the use of backticks.\n",
    "\n",
    "The new command for Task 6 is as follows:\n",
    "    \n",
    "    wget -O `date +\"%Y%m%d_%H%M%S.json\"` https://prodapi.metweb.ie/observations/athenry/today\n"
   ]
  },
  {
   "cell_type": "markdown",
   "metadata": {},
   "source": [
    "## Task 7\n",
    "---\n",
    "Task 7 is to write a bash script called weather.sh that automates the process from Task 6 and saves the file in the data2/timestamps/weather directory.\n",
    "\n",
    "To write a bash script the command #! (shebang) has to be passed through. [A shebang is a character sequence at the beginning of a script file that informs the operating system which interpreter to use for executing the script. For a bash script the line typically used is '#! bin/bash'. This line tells the operating system to use the Bash interpreter located at /bin/bash to run the script. The script used for this command is the command for task 6 with the added directory for where the script is to saved][1]. Writing the script is as follows:\n",
    "\n",
    "    #! /bin/bash\n",
    "\n",
    "    wget -O data2/timestamps/weather `date +\"%Y%m%d_%H%M%S.json\"` https://prodapi.metweb.ie/observations/athenry/today\n",
    "\n",
    "However when we run this ./weather.sh it says that we don't have permission.\n",
    "To make the script executable we use chmod u+x #chmod = change mode, u = user, x = executable. The command is as follows:\n",
    "    \n",
    "    chmod u+x ./weather.sh\n",
    "\n",
    "When ./weather.sh is ran again, the command is executed.\n",
    "\n",
    "\n",
    "[1]: https://medium.com/@redswitches/shebang-in-bash-and-python-scripts-best-practices-8c0a0b42c176"
   ]
  }
 ],
 "metadata": {
  "language_info": {
   "name": "python"
  }
 },
 "nbformat": 4,
 "nbformat_minor": 2
}
